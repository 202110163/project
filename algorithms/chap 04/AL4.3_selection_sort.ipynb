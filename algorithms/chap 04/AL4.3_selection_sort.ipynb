{
 "cells": [
  {
   "cell_type": "markdown",
   "metadata": {},
   "source": [
    "## 01. 문제 정의\n",
    "정렬 되지 않은 부분을 왼쪽 항과 비교하여 한칸씩 이동 후 정렬하는 문제"
   ]
  },
  {
   "cell_type": "markdown",
   "metadata": {},
   "source": [
    "## 02. 알고리즘 설명\n",
    "두 번째 항부터 시작하여 왼쪽(앞) 항과 비교하여 삽입할 위치를 지정한 후 자료를 뒤로 옮기고 지정한 자리에 자료를 삽입하여 정렬하는 알고리즘이다."
   ]
  },
  {
   "cell_type": "markdown",
   "metadata": {},
   "source": [
    "## 03. 손으로 푼 예제"
   ]
  },
  {
   "cell_type": "markdown",
   "metadata": {},
   "source": [
    "## 04. 코드개요\n",
    "#### 함수명 : insertion_sort\n",
    "#### 입력 : data = [5, 3, 8, 4, 9, 1, 6, 2, 7]\n",
    "#### 반환값 : 반환값은 따로 없고 정렬된 요소를 출력합니다\n",
    "#### 함수 설명 : \n",
    "#### 1~2행.정렬할 리스트 A를 입력 후 리스트 A의 길이를 변수 n에 할당한다. \n",
    "#### 3~4행.1부터 n-1까지 순차적으로 반복하는 루프를 생성 후 A[i]를 key에 저장한다.\n",
    "#### 5~6행.항목 A[i-1]부터 감사 실시 하여 A[i-1]부터 왼쪽으로 비교를 진행 key의 값보다 크면 반복\n",
    "#### 7~8행.항목들을 오른쪽으로 한 칸씩 이동하고 위치를 왼쪽으로 이동\n",
    "#### 9행.항목A[i]를 제 위치에 삽입"
   ]
  },
  {
   "cell_type": "markdown",
   "metadata": {},
   "source": [
    "## 05. 코드"
   ]
  },
  {
   "cell_type": "code",
   "execution_count": null,
   "metadata": {
    "vscode": {
     "languageId": "plaintext"
    }
   },
   "outputs": [],
   "source": [
    "def insertion_sort(A):\n",
    "    n = len(A)\n",
    "    for i in range(1, n):\n",
    "        key = A[i]\n",
    "        j = i - 1\n",
    "        while j >= 0 and A[j] > key:\n",
    "            A[j + 1] = A[j]\n",
    "            j = j - 1\n",
    "        A[j + 1] = key\n",
    "        printStep(A, i)"
   ]
  },
  {
   "cell_type": "markdown",
   "metadata": {},
   "source": [
    "## 06. 테스트 코드"
   ]
  },
  {
   "cell_type": "code",
   "execution_count": null,
   "metadata": {
    "vscode": {
     "languageId": "plaintext"
    }
   },
   "outputs": [],
   "source": [
    "def printStep(arr, val):\n",
    "    print(\"step %d =\" % val, end=' ')\n",
    "    print(arr)\n",
    "\n",
    "def insertion_sort(A):\n",
    "    n = len(A)\n",
    "    for i in range(1, n):\n",
    "        key = A[i]\n",
    "        j = i - 1\n",
    "        while j >= 0 and A[j] > key:\n",
    "            A[j + 1] = A[j]\n",
    "            j = j - 1\n",
    "        A[j + 1] = key\n",
    "        printStep(A, i)\n",
    "\n",
    "data = [5, 3, 8, 4, 9, 1, 6, 2, 7]\n",
    "print(\"Original:\", data)\n",
    "insertion_sort(data)\n",
    "print(\"Insertion:\", data)\n"
   ]
  },
  {
   "cell_type": "markdown",
   "metadata": {},
   "source": [
    "## 07. 수행결과\n"
   ]
  },
  {
   "attachments": {
    "알고리즘 4.3 결과.png": {
     "image/png": "[encoded data removed]"
    }
   },
   "cell_type": "markdown",
   "metadata": {},
   "source": [
    "![김민성][![알고리즘 4.3 결과.png](<attachment:알고리즘 4.3 결과.png>)]"
   ]
  },
  {
   "cell_type": "markdown",
   "metadata": {},
   "source": [
    "## 08.복잡도 분석\n",
    "리스트가 정렬되지 않았기 때문에 내부 루프가 i번 반복되므로 기본 연산이 i번 실행된다.\n",
    "따라서 복잡도는 o(n^2)이다."
   ]
  },
  {
   "cell_type": "markdown",
   "metadata": {},
   "source": [
    "## 09. 협력 내용"
   ]
  },
  {
   "cell_type": "markdown",
   "metadata": {},
   "source": [
    "팀원과 모르는 부분이 있으면 같이 해결함"
   ]
  }
 ],
 "metadata": {
  "language_info": {
   "name": "python"
  }
 },
 "nbformat": 4,
 "nbformat_minor": 2
}
