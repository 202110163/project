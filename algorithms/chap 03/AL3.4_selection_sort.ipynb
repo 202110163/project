{
 "cells": [
  {
   "cell_type": "markdown",
   "metadata": {},
   "source": [
    "### 1) 문제 정의 (MD)\n",
    "#### 가능한 모든 점의 쌍(pi,pj)에 대해 거리를 계산하고, 가장 짧은 것을 찾는다."
   ]
  },
  {
   "cell_type": "markdown",
   "metadata": {},
   "source": [
    "### 2) 알고리즘 설명\n",
    "#### 이중 루프를 사용한다. 한번 계산한 점들의 쌍에 대해 다시 거리를 계산할 필요가 없기 때문에 내부 루프의 반복 범위를 잘 설정해야 한다. 점의 전체 개수에서를 받고, 최근접 거리를 초기화(무한대)한 후 외부 루프와 내부 루프 인덱스를 각각 i, j라 한다면 i < j를 만족하는 쌍 (pi,pj) 들만을 계산하면 된다. "
   ]
  },
  {
   "cell_type": "markdown",
   "metadata": {},
   "source": [
    "###   3) 손으로 푼 예제 (MD, 이미지 삽입)\n",
    "![image.png](attachment:image.png)"
   ]
  },
  {
   "cell_type": "markdown",
   "metadata": {},
   "source": []
  }
 ],
 "metadata": {
  "language_info": {
   "name": "python"
  }
 },
 "nbformat": 4,
 "nbformat_minor": 2
}
