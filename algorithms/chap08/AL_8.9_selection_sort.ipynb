{
 "cells": [
  {
   "cell_type": "markdown",
   "metadata": {},
   "source": [
    "#### 문제정의01)"
   ]
  },
  {
   "cell_type": "markdown",
   "metadata": {},
   "source": [
    "각 문자의 빈도를 기반으로 가장 짧은 이진 코드를 할당하여 데이터를 합축하는 허프만 코드를 생성하는 문제"
   ]
  },
  {
   "cell_type": "markdown",
   "metadata": {},
   "source": [
    "#### 알고리즘 설명02)"
   ]
  },
  {
   "cell_type": "markdown",
   "metadata": {},
   "source": [
    "각 문자의 빈도와 라벨을 튜플 형태로 힙에 추가한 후 힙에서 두 개의 최소 요소를 POP하여 합친 후 다시 힙에 추가하는 과정을 반복한다. 마지막으로 최종 힙에서 남은 하나의 요소를 반환한다."
   ]
  },
  {
   "cell_type": "markdown",
   "metadata": {},
   "source": [
    "#### 손으로 푼 예제03)"
   ]
  },
  {
   "cell_type": "markdown",
   "metadata": {},
   "source": [
    "#### 코드 개요04)"
   ]
  },
  {
   "cell_type": "markdown",
   "metadata": {},
   "source": [
    "#### 함수: make_heap_tree(freq,label)\n",
    "#### 입력:freq(각 문자의 빈도를 나타내는 리스트), label(각 문자에 대응하는 라벨을 나타내는 리스트)\n",
    "#### 출력:각 단계에서 최소 빈도의 요소들이 합쳐지는 과정을 출력하며 마지막으로 전체 문자의 압축된 트리 구조를 출력"
   ]
  },
  {
   "cell_type": "markdown",
   "metadata": {},
   "source": [
    "#### 코드05)"
   ]
  },
  {
   "cell_type": "code",
   "execution_count": null,
   "metadata": {},
   "outputs": [],
   "source": [
    "import heapq\n",
    "\n",
    "def make_heap_tree(freq, label):\n",
    "    n = len(freq)\n",
    "    h = []\n",
    "    \n",
    "    for i in range(n):\n",
    "        heapq.heappush(h, (freq[i], label[i]))\n",
    "\n",
    "    for i in range(1, n):\n",
    "        e1 = heapq.heappop(h)\n",
    "        e2 = heapq.heappop(h)\n",
    "        heapq.heappush(h, (e1[0] + e2[0], e1[1] + e2[1]))\n",
    "        print(e1, \"+\", e2)\n",
    "\n",
    "    print(heapq.heappop(h))\n"
   ]
  },
  {
   "cell_type": "markdown",
   "metadata": {},
   "source": [
    "#### 테스트 코드06)"
   ]
  },
  {
   "cell_type": "code",
   "execution_count": null,
   "metadata": {},
   "outputs": [],
   "source": [
    "import heapq\n",
    "\n",
    "def make_heap_tree(freq, label):\n",
    "    n = len(freq)\n",
    "    h = []\n",
    "    \n",
    "    for i in range(n):\n",
    "        heapq.heappush(h, (freq[i], label[i]))\n",
    "\n",
    "    for i in range(1, n):\n",
    "        e1 = heapq.heappop(h)\n",
    "        e2 = heapq.heappop(h)\n",
    "        heapq.heappush(h, (e1[0] + e2[0], e1[1] + e2[1]))\n",
    "        print(e1, \"+\", e2)\n",
    "\n",
    "    print(heapq.heappop(h))\n",
    "\n",
    "freq = [ 24, 3, 8, 10, 33, 6, 4, 12]\n",
    "label = ['A', 'B', 'C', 'D', 'E', 'F', 'G', 'H']\n",
    "make_heap_tree(freq, label)\n"
   ]
  },
  {
   "cell_type": "markdown",
   "metadata": {},
   "source": [
    "#### 실행결과07)"
   ]
  },
  {
   "attachments": {
    "img.png": {
     "image/png": "[encoded data removed]"
    }
   },
   "cell_type": "markdown",
   "metadata": {},
   "source": [
    "![img.png](attachment:img.png)"
   ]
  },
  {
   "cell_type": "markdown",
   "metadata": {},
   "source": [
    "#### 복잡도 분석08)"
   ]
  },
  {
   "cell_type": "markdown",
   "metadata": {},
   "source": [
    "O(nlog2n)"
   ]
  },
  {
   "cell_type": "markdown",
   "metadata": {},
   "source": [
    "#### 협력 내용09)"
   ]
  },
  {
   "cell_type": "markdown",
   "metadata": {},
   "source": [
    "모르는 부분이 있으면 팀원과 협력하여 해결했습니다."
   ]
  },
  {
   "cell_type": "markdown",
   "metadata": {},
   "source": []
  }
 ],
 "metadata": {
  "kernelspec": {
   "display_name": "Python 3",
   "language": "python",
   "name": "python3"
  },
  "language_info": {
   "name": "python",
   "version": "3.12.2"
  }
 },
 "nbformat": 4,
 "nbformat_minor": 2
}
